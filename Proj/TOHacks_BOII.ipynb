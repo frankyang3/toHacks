{
 "cells": [
  {
   "cell_type": "code",
   "execution_count": 21,
   "metadata": {
    "colab": {},
    "colab_type": "code",
    "id": "ztsolkiUbtNX"
   },
   "outputs": [],
   "source": [
    "%matplotlib inline\n",
    "import pandas as pd\n",
    "import numpy as np\n",
    "import matplotlib.pyplot as plt\n",
    "import tensorflow as tf\n",
    "from tensorflow import keras\n",
    "from keras.models import Sequential\n",
    "from keras.layers import Dense"
   ]
  },
  {
   "cell_type": "code",
   "execution_count": 22,
   "metadata": {
    "colab": {
     "base_uri": "https://localhost:8080/",
     "height": 360
    },
    "colab_type": "code",
    "id": "6mO4C1hKbGLt",
    "outputId": "a1fc68fc-439b-4183-a87e-12d5f3e40414"
   },
   "outputs": [
    {
     "output_type": "display_data",
     "data": {
      "text/plain": "   blueWins  blueWardsPlaced  ...  blueCSPerMin  blueGoldPerMin\n0         0               28  ...          19.5          1721.0\n1         0               12  ...          17.4          1471.2\n2         0               15  ...          18.6          1611.3\n3         0               43  ...          20.1          1515.7\n4         0               75  ...          21.0          1640.0\n\n[5 rows x 20 columns]",
      "text/html": "<div>\n<style scoped>\n    .dataframe tbody tr th:only-of-type {\n        vertical-align: middle;\n    }\n\n    .dataframe tbody tr th {\n        vertical-align: top;\n    }\n\n    .dataframe thead th {\n        text-align: right;\n    }\n</style>\n<table border=\"1\" class=\"dataframe\">\n  <thead>\n    <tr style=\"text-align: right;\">\n      <th></th>\n      <th>blueWins</th>\n      <th>blueWardsPlaced</th>\n      <th>blueWardsDestroyed</th>\n      <th>blueFirstBlood</th>\n      <th>blueKills</th>\n      <th>blueDeaths</th>\n      <th>blueAssists</th>\n      <th>blueEliteMonsters</th>\n      <th>blueDragons</th>\n      <th>blueHeralds</th>\n      <th>blueTowersDestroyed</th>\n      <th>blueTotalGold</th>\n      <th>blueAvgLevel</th>\n      <th>blueTotalExperience</th>\n      <th>blueTotalMinionsKilled</th>\n      <th>blueTotalJungleMinionsKilled</th>\n      <th>blueGoldDiff</th>\n      <th>blueExperienceDiff</th>\n      <th>blueCSPerMin</th>\n      <th>blueGoldPerMin</th>\n    </tr>\n  </thead>\n  <tbody>\n    <tr>\n      <th>0</th>\n      <td>0</td>\n      <td>28</td>\n      <td>2</td>\n      <td>1</td>\n      <td>9</td>\n      <td>6</td>\n      <td>11</td>\n      <td>0</td>\n      <td>0</td>\n      <td>0</td>\n      <td>0</td>\n      <td>17210</td>\n      <td>6.6</td>\n      <td>17039</td>\n      <td>195</td>\n      <td>36</td>\n      <td>643</td>\n      <td>-8</td>\n      <td>19.5</td>\n      <td>1721.0</td>\n    </tr>\n    <tr>\n      <th>1</th>\n      <td>0</td>\n      <td>12</td>\n      <td>1</td>\n      <td>0</td>\n      <td>5</td>\n      <td>5</td>\n      <td>5</td>\n      <td>0</td>\n      <td>0</td>\n      <td>0</td>\n      <td>0</td>\n      <td>14712</td>\n      <td>6.6</td>\n      <td>16265</td>\n      <td>174</td>\n      <td>43</td>\n      <td>-2908</td>\n      <td>-1173</td>\n      <td>17.4</td>\n      <td>1471.2</td>\n    </tr>\n    <tr>\n      <th>2</th>\n      <td>0</td>\n      <td>15</td>\n      <td>0</td>\n      <td>0</td>\n      <td>7</td>\n      <td>11</td>\n      <td>4</td>\n      <td>1</td>\n      <td>1</td>\n      <td>0</td>\n      <td>0</td>\n      <td>16113</td>\n      <td>6.4</td>\n      <td>16221</td>\n      <td>186</td>\n      <td>46</td>\n      <td>-1172</td>\n      <td>-1033</td>\n      <td>18.6</td>\n      <td>1611.3</td>\n    </tr>\n    <tr>\n      <th>3</th>\n      <td>0</td>\n      <td>43</td>\n      <td>1</td>\n      <td>0</td>\n      <td>4</td>\n      <td>5</td>\n      <td>5</td>\n      <td>1</td>\n      <td>0</td>\n      <td>1</td>\n      <td>0</td>\n      <td>15157</td>\n      <td>7.0</td>\n      <td>17954</td>\n      <td>201</td>\n      <td>55</td>\n      <td>-1321</td>\n      <td>-7</td>\n      <td>20.1</td>\n      <td>1515.7</td>\n    </tr>\n    <tr>\n      <th>4</th>\n      <td>0</td>\n      <td>75</td>\n      <td>4</td>\n      <td>0</td>\n      <td>6</td>\n      <td>6</td>\n      <td>6</td>\n      <td>0</td>\n      <td>0</td>\n      <td>0</td>\n      <td>0</td>\n      <td>16400</td>\n      <td>7.0</td>\n      <td>18543</td>\n      <td>210</td>\n      <td>57</td>\n      <td>-1004</td>\n      <td>230</td>\n      <td>21.0</td>\n      <td>1640.0</td>\n    </tr>\n  </tbody>\n</table>\n</div>"
     },
     "metadata": {}
    }
   ],
   "source": [
    "##Data Cleaning\n",
    "data = pd.read_csv('high_diamond_ranked_10min.csv')\n",
    "\n",
    "data=data.drop(columns=[\"gameId\"])\n",
    "data = data.drop(columns=[\"redTowersDestroyed\",\"redTotalGold\",\"redTotalExperience\",\"redTotalMinionsKilled\", \"redTotalJungleMinionsKilled\", \"redGoldDiff\",\"redExperienceDiff\",\"redCSPerMin\",\"redGoldPerMin\"])\n",
    "data = data.drop(columns=[\"redWardsPlaced\", \"redWardsDestroyed\", \"redFirstBlood\", \"redKills\", \"redDeaths\", \"redAssists\", \"redEliteMonsters\", \"redDragons\", \"redHeralds\", \"redAvgLevel\"])\n",
    "\n",
    "##Display at end\n",
    "display(data.head())"
   ]
  },
  {
   "cell_type": "code",
   "execution_count": 23,
   "metadata": {},
   "outputs": [
    {
     "output_type": "execute_result",
     "data": {
      "text/plain": "9879"
     },
     "metadata": {},
     "execution_count": 23
    }
   ],
   "source": [
    "len(data)"
   ]
  },
  {
   "cell_type": "code",
   "execution_count": 24,
   "metadata": {},
   "outputs": [
    {
     "output_type": "display_data",
     "data": {
      "text/plain": "   blueWins  blueWardsPlaced  ...  blueCSPerMin  blueGoldPerMin\n0         0               28  ...          19.5          1721.0\n1         0               12  ...          17.4          1471.2\n2         0               15  ...          18.6          1611.3\n3         0               43  ...          20.1          1515.7\n4         0               75  ...          21.0          1640.0\n\n[5 rows x 20 columns]",
      "text/html": "<div>\n<style scoped>\n    .dataframe tbody tr th:only-of-type {\n        vertical-align: middle;\n    }\n\n    .dataframe tbody tr th {\n        vertical-align: top;\n    }\n\n    .dataframe thead th {\n        text-align: right;\n    }\n</style>\n<table border=\"1\" class=\"dataframe\">\n  <thead>\n    <tr style=\"text-align: right;\">\n      <th></th>\n      <th>blueWins</th>\n      <th>blueWardsPlaced</th>\n      <th>blueWardsDestroyed</th>\n      <th>blueFirstBlood</th>\n      <th>blueKills</th>\n      <th>blueDeaths</th>\n      <th>blueAssists</th>\n      <th>blueEliteMonsters</th>\n      <th>blueDragons</th>\n      <th>blueHeralds</th>\n      <th>blueTowersDestroyed</th>\n      <th>blueTotalGold</th>\n      <th>blueAvgLevel</th>\n      <th>blueTotalExperience</th>\n      <th>blueTotalMinionsKilled</th>\n      <th>blueTotalJungleMinionsKilled</th>\n      <th>blueGoldDiff</th>\n      <th>blueExperienceDiff</th>\n      <th>blueCSPerMin</th>\n      <th>blueGoldPerMin</th>\n    </tr>\n  </thead>\n  <tbody>\n    <tr>\n      <th>0</th>\n      <td>0</td>\n      <td>28</td>\n      <td>2</td>\n      <td>1</td>\n      <td>9</td>\n      <td>6</td>\n      <td>11</td>\n      <td>0</td>\n      <td>0</td>\n      <td>0</td>\n      <td>0</td>\n      <td>17210</td>\n      <td>6.6</td>\n      <td>17039</td>\n      <td>195</td>\n      <td>36</td>\n      <td>643</td>\n      <td>-8</td>\n      <td>19.5</td>\n      <td>1721.0</td>\n    </tr>\n    <tr>\n      <th>1</th>\n      <td>0</td>\n      <td>12</td>\n      <td>1</td>\n      <td>0</td>\n      <td>5</td>\n      <td>5</td>\n      <td>5</td>\n      <td>0</td>\n      <td>0</td>\n      <td>0</td>\n      <td>0</td>\n      <td>14712</td>\n      <td>6.6</td>\n      <td>16265</td>\n      <td>174</td>\n      <td>43</td>\n      <td>-2908</td>\n      <td>-1173</td>\n      <td>17.4</td>\n      <td>1471.2</td>\n    </tr>\n    <tr>\n      <th>2</th>\n      <td>0</td>\n      <td>15</td>\n      <td>0</td>\n      <td>0</td>\n      <td>7</td>\n      <td>11</td>\n      <td>4</td>\n      <td>1</td>\n      <td>1</td>\n      <td>0</td>\n      <td>0</td>\n      <td>16113</td>\n      <td>6.4</td>\n      <td>16221</td>\n      <td>186</td>\n      <td>46</td>\n      <td>-1172</td>\n      <td>-1033</td>\n      <td>18.6</td>\n      <td>1611.3</td>\n    </tr>\n    <tr>\n      <th>3</th>\n      <td>0</td>\n      <td>43</td>\n      <td>1</td>\n      <td>0</td>\n      <td>4</td>\n      <td>5</td>\n      <td>5</td>\n      <td>1</td>\n      <td>0</td>\n      <td>1</td>\n      <td>0</td>\n      <td>15157</td>\n      <td>7.0</td>\n      <td>17954</td>\n      <td>201</td>\n      <td>55</td>\n      <td>-1321</td>\n      <td>-7</td>\n      <td>20.1</td>\n      <td>1515.7</td>\n    </tr>\n    <tr>\n      <th>4</th>\n      <td>0</td>\n      <td>75</td>\n      <td>4</td>\n      <td>0</td>\n      <td>6</td>\n      <td>6</td>\n      <td>6</td>\n      <td>0</td>\n      <td>0</td>\n      <td>0</td>\n      <td>0</td>\n      <td>16400</td>\n      <td>7.0</td>\n      <td>18543</td>\n      <td>210</td>\n      <td>57</td>\n      <td>-1004</td>\n      <td>230</td>\n      <td>21.0</td>\n      <td>1640.0</td>\n    </tr>\n  </tbody>\n</table>\n</div>"
     },
     "metadata": {}
    },
    {
     "output_type": "display_data",
     "data": {
      "text/plain": "      blueWins  blueWardsPlaced  ...  blueCSPerMin  blueGoldPerMin\n7898         0               16  ...          20.6          1611.0\n7899         1               18  ...          20.0          1820.9\n7900         1               16  ...          20.7          1602.3\n7901         1               14  ...          23.1          1768.5\n7902         1               86  ...          21.3          1480.3\n\n[5 rows x 20 columns]",
      "text/html": "<div>\n<style scoped>\n    .dataframe tbody tr th:only-of-type {\n        vertical-align: middle;\n    }\n\n    .dataframe tbody tr th {\n        vertical-align: top;\n    }\n\n    .dataframe thead th {\n        text-align: right;\n    }\n</style>\n<table border=\"1\" class=\"dataframe\">\n  <thead>\n    <tr style=\"text-align: right;\">\n      <th></th>\n      <th>blueWins</th>\n      <th>blueWardsPlaced</th>\n      <th>blueWardsDestroyed</th>\n      <th>blueFirstBlood</th>\n      <th>blueKills</th>\n      <th>blueDeaths</th>\n      <th>blueAssists</th>\n      <th>blueEliteMonsters</th>\n      <th>blueDragons</th>\n      <th>blueHeralds</th>\n      <th>blueTowersDestroyed</th>\n      <th>blueTotalGold</th>\n      <th>blueAvgLevel</th>\n      <th>blueTotalExperience</th>\n      <th>blueTotalMinionsKilled</th>\n      <th>blueTotalJungleMinionsKilled</th>\n      <th>blueGoldDiff</th>\n      <th>blueExperienceDiff</th>\n      <th>blueCSPerMin</th>\n      <th>blueGoldPerMin</th>\n    </tr>\n  </thead>\n  <tbody>\n    <tr>\n      <th>7898</th>\n      <td>0</td>\n      <td>16</td>\n      <td>3</td>\n      <td>0</td>\n      <td>6</td>\n      <td>5</td>\n      <td>9</td>\n      <td>1</td>\n      <td>1</td>\n      <td>0</td>\n      <td>0</td>\n      <td>16110</td>\n      <td>7.0</td>\n      <td>17501</td>\n      <td>206</td>\n      <td>36</td>\n      <td>72</td>\n      <td>-81</td>\n      <td>20.6</td>\n      <td>1611.0</td>\n    </tr>\n    <tr>\n      <th>7899</th>\n      <td>1</td>\n      <td>18</td>\n      <td>4</td>\n      <td>0</td>\n      <td>10</td>\n      <td>9</td>\n      <td>10</td>\n      <td>0</td>\n      <td>0</td>\n      <td>0</td>\n      <td>0</td>\n      <td>18209</td>\n      <td>6.8</td>\n      <td>16955</td>\n      <td>200</td>\n      <td>37</td>\n      <td>1287</td>\n      <td>440</td>\n      <td>20.0</td>\n      <td>1820.9</td>\n    </tr>\n    <tr>\n      <th>7900</th>\n      <td>1</td>\n      <td>16</td>\n      <td>4</td>\n      <td>1</td>\n      <td>5</td>\n      <td>6</td>\n      <td>5</td>\n      <td>1</td>\n      <td>0</td>\n      <td>1</td>\n      <td>0</td>\n      <td>16023</td>\n      <td>6.8</td>\n      <td>17244</td>\n      <td>207</td>\n      <td>60</td>\n      <td>1299</td>\n      <td>-918</td>\n      <td>20.7</td>\n      <td>1602.3</td>\n    </tr>\n    <tr>\n      <th>7901</th>\n      <td>1</td>\n      <td>14</td>\n      <td>3</td>\n      <td>0</td>\n      <td>8</td>\n      <td>7</td>\n      <td>6</td>\n      <td>1</td>\n      <td>1</td>\n      <td>0</td>\n      <td>0</td>\n      <td>17685</td>\n      <td>7.2</td>\n      <td>19338</td>\n      <td>231</td>\n      <td>44</td>\n      <td>1218</td>\n      <td>1150</td>\n      <td>23.1</td>\n      <td>1768.5</td>\n    </tr>\n    <tr>\n      <th>7902</th>\n      <td>1</td>\n      <td>86</td>\n      <td>4</td>\n      <td>0</td>\n      <td>4</td>\n      <td>5</td>\n      <td>3</td>\n      <td>1</td>\n      <td>1</td>\n      <td>0</td>\n      <td>0</td>\n      <td>14803</td>\n      <td>6.8</td>\n      <td>17318</td>\n      <td>213</td>\n      <td>49</td>\n      <td>-1380</td>\n      <td>326</td>\n      <td>21.3</td>\n      <td>1480.3</td>\n    </tr>\n  </tbody>\n</table>\n</div>"
     },
     "metadata": {}
    }
   ],
   "source": [
    "train = data.iloc[:7897]\n",
    "test = data.iloc[7898:]\n",
    "display(train.head())\n",
    "display(test.head())"
   ]
  },
  {
   "cell_type": "code",
   "execution_count": 34,
   "metadata": {},
   "outputs": [
    {
     "output_type": "stream",
     "name": "stdout",
     "text": "(7897, 19)\n(7897, 1)\n"
    }
   ],
   "source": [
    "features = train.to_numpy()[:, 1:]\n",
    "labels = train.to_numpy()[:, 0:1]\n",
    "\n",
    "print(features.shape)\n",
    "print(labels.shape)"
   ]
  },
  {
   "cell_type": "code",
   "execution_count": 42,
   "metadata": {},
   "outputs": [
    {
     "output_type": "stream",
     "name": "stdout",
     "text": "Epoch 1/10\n7897/7897 [==============================] - 3s 405us/step - loss: 8.0334 - acc: 0.5016\nEpoch 2/10\n7897/7897 [==============================] - 2s 254us/step - loss: 8.0334 - acc: 0.5016\nEpoch 3/10\n7897/7897 [==============================] - 2s 246us/step - loss: 8.0334 - acc: 0.5016\nEpoch 4/10\n7897/7897 [==============================] - 2s 249us/step - loss: 8.0334 - acc: 0.5016\nEpoch 5/10\n7897/7897 [==============================] - 2s 284us/step - loss: 8.0334 - acc: 0.5016\nEpoch 6/10\n7897/7897 [==============================] - 2s 315us/step - loss: 8.0334 - acc: 0.5016\nEpoch 7/10\n7897/7897 [==============================] - 3s 325us/step - loss: 8.0334 - acc: 0.5016\nEpoch 8/10\n7897/7897 [==============================] - 2s 315us/step - loss: 8.0334 - acc: 0.5016\nEpoch 9/10\n7897/7897 [==============================] - 3s 323us/step - loss: 8.0334 - acc: 0.5016\nEpoch 10/10\n7897/7897 [==============================] - 2s 261us/step - loss: 8.0334 - acc: 0.5016\n"
    }
   ],
   "source": [
    "model = Sequential()\n",
    "model.add(Dense(64, input_dim = 19, activation = \"relu\"))\n",
    "model.add(Dense(32, activation = \"relu\"))\n",
    "model.add(Dense(1, activation= \"sigmoid\"))\n",
    "\n",
    "model.compile(loss='binary_crossentropy', optimizer='adam', metrics = ['acc'])\n",
    "model.fit(features, labels, epochs = 10, batch_size = 10)\n",
    "_, accuracy = model.evaluate(features, labels, verbose=0)"
   ]
  },
  {
   "cell_type": "code",
   "execution_count": null,
   "metadata": {},
   "outputs": [],
   "source": []
  }
 ],
 "metadata": {
  "colab": {
   "collapsed_sections": [],
   "name": "TOHacks BOII.ipynb",
   "provenance": []
  },
  "kernelspec": {
   "display_name": "Python 3",
   "language": "python",
   "name": "python3"
  },
  "language_info": {
   "codemirror_mode": {
    "name": "ipython",
    "version": 3
   },
   "file_extension": ".py",
   "mimetype": "text/x-python",
   "name": "python",
   "nbconvert_exporter": "python",
   "pygments_lexer": "ipython3",
   "version": "3.7.4"
  }
 },
 "nbformat": 4,
 "nbformat_minor": 1
}